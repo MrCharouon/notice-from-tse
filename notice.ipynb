{
 "cells": [
  {
   "cell_type": "code",
   "execution_count": 1,
   "id": "ea1185b7",
   "metadata": {},
   "outputs": [],
   "source": [
    "### Get information from the server\n",
    "import requests\n",
    "from bs4 import BeautifulSoup as bs\n",
    "\n",
    "url = 'http://www.tsetmc.com/Loader.aspx?ParTree=151313&Flow=0'\n",
    "r = requests.get(url)\n",
    "soup = bs(r.content)\n",
    "\n",
    "result = soup.find_all(attrs={'class': 'table1'})\n",
    "# result"
   ]
  },
  {
   "cell_type": "code",
   "execution_count": 2,
   "id": "0938aac4",
   "metadata": {},
   "outputs": [],
   "source": [
    "### Save information in Output.txt file\n",
    "string_it = str(result)\n",
    "\n",
    "with open(\"Output.txt\", \"w+\") as fo:\n",
    "        fo.write(string_it)\n",
    "        fo.close()\n",
    "# string_it"
   ]
  },
  {
   "cell_type": "code",
   "execution_count": 3,
   "id": "0d10b150",
   "metadata": {},
   "outputs": [],
   "source": [
    "### find the string by replacing and Save this in replacing_Output.txt file\n",
    "### e by a\n",
    "\n",
    "string = string_it\n",
    "\n",
    "a = (string.replace(\"[\", \"\"))\n",
    "b = (a.replace(\"<tr>\", \"\"))\n",
    "c = (b.replace(\"</tr>\", \"\"))\n",
    "d = (c.replace(\"<th>\", \"\\\"\"))\n",
    "f = (d.replace(\"</th>\", \"\"))\n",
    "# g = (f.replace(\"</td>\", \"\\\"\"))\n",
    "g = (f.replace(\"</td>\", \"\"))\n",
    "m = (g.replace(\"<tbody>\", \"\"))\n",
    "n = (m.replace(\"</tbody>\", \"\"))\n",
    "h = (n.replace(\"<hr/>\", \"\"))\n",
    "j = (h.replace(\"</table>\", \"\"))\n",
    "u = (j.replace(\"]\", \"\"))\n",
    "i = (u.replace(\"<th class=\\\"ltr\\\">\", \"\"))\n",
    "o = (i.replace(\"<td colspan=\\\"2\\\">\", \"\"))\n",
    "final_result = (o.replace(\"<table class=\\\"table1\\\">\", \"\"))\n",
    "\n",
    "replacing_Output = str(final_result)\n",
    "with open(\"replacing_Output.txt\", \"w+\") as fo:\n",
    "        fo.write(replacing_Output)\n",
    "        fo.close()\n",
    "# print(replacing_Output)"
   ]
  },
  {
   "cell_type": "code",
   "execution_count": 4,
   "id": "f28823a8",
   "metadata": {},
   "outputs": [
    {
     "data": {
      "text/plain": [
       "45536"
      ]
     },
     "execution_count": 4,
     "metadata": {},
     "output_type": "execute_result"
    }
   ],
   "source": [
    "### Removes extra lines from replacing_Output.txt and save new data on the Final_Output.txt\n",
    "output = \"\"\n",
    "with open(\"replacing_Output.txt\") as f:\n",
    "    for line in f:\n",
    "        if not line.isspace():\n",
    "            output+=line\n",
    "f= open(\"Final_Output.txt\",\"w\")\n",
    "f.write(output)\n",
    "# print(output)"
   ]
  },
  {
   "cell_type": "code",
   "execution_count": 5,
   "id": "064d44eb",
   "metadata": {},
   "outputs": [
    {
     "data": {
      "text/plain": [
       "101"
      ]
     },
     "execution_count": 5,
     "metadata": {},
     "output_type": "execute_result"
    }
   ],
   "source": [
    "grade_data = output.split('\\\"')\n",
    "# print(grade_data[1],\"\\n\")\n",
    "# print(grade_data[2],\"\\n\")\n",
    "# print(grade_data[99],\"\\n\")\n",
    "# print(grade_data[100],\"\\n\")\n",
    "len(grade_data)\n",
    "# type(grade_data)"
   ]
  },
  {
   "cell_type": "code",
   "execution_count": 6,
   "id": "010b9487",
   "metadata": {},
   "outputs": [
    {
     "data": {
      "text/plain": [
       "101"
      ]
     },
     "execution_count": 6,
     "metadata": {},
     "output_type": "execute_result"
    }
   ],
   "source": [
    "### Save data to grade_data.csv file\n",
    "import pandas as pd\n",
    "df = pd.DataFrame(grade_data)\n",
    "df.to_csv('grade_data.csv', index=False)\n",
    "len(df)"
   ]
  },
  {
   "cell_type": "code",
   "execution_count": 7,
   "id": "93fcfa75",
   "metadata": {},
   "outputs": [],
   "source": [
    "### Convert csv to database for find the values\n",
    "import csv\n",
    "import sqlite3\n",
    "file = open('grade_data.csv')\n",
    "csvreader = csv.reader(file)\n",
    "header = next(csvreader)\n",
    "db_rows = []\n",
    "for row in csvreader:\n",
    "    db_rows.append(row)\n",
    "file.close()\n",
    "\n",
    "\n",
    "conn = sqlite3.connect('grade_data.db')\n",
    "cur = conn.cursor()\n",
    "cur.execute('DROP TABLE IF EXISTS data')\n",
    "cur.execute(\"\"\"CREATE TABLE IF NOT EXISTS data (\n",
    "    id INTEGER PRIMARY KEY AUTOINCREMENT,\n",
    "    message Text );\"\"\")\n",
    "conn.commit()\n",
    "\n",
    "def Insert_Data ():\n",
    "\n",
    "    for i in range(1, len(db_rows)):\n",
    "\n",
    "        message = str(db_rows[i][0])\n",
    "        number = i\n",
    "        query = f'INSERT INTO data VALUES (\"{number}\", \"{message}\")'\n",
    "        cur.execute(query)\n",
    "        conn.commit()\n",
    "\n",
    "    conn.close()\n",
    "\n",
    "Insert_Data()"
   ]
  },
  {
   "cell_type": "code",
   "execution_count": 8,
   "id": "600228b4",
   "metadata": {},
   "outputs": [],
   "source": [
    "### search dataframe for column\n",
    "\n",
    "conn = sqlite3.connect('grade_data.db')\n",
    "cur0 = conn.cursor()\n",
    "cur1 = conn.cursor()\n",
    "cur2 = conn.cursor()\n",
    "# Variable = '12'\n",
    "# cur.execute(\"SELECT * FROM data WHERE id=?\", (Variable,))\n",
    "\n",
    "Variable0 = 'پذيره نويسي'\n",
    "cur0.execute(\"SELECT message FROM data WHERE message like '%'||?||'%'\", (Variable0,))\n",
    "Variable1 = 'عرضه اوليه'\n",
    "cur1.execute(\"SELECT message FROM data WHERE message like '%'||?||'%'\", (Variable1,))\n",
    "Variable2 = 'ثبت سفارش'\n",
    "cur2.execute(\"SELECT message FROM data WHERE message like '%'||?||'%'\", (Variable2,))\n",
    "\n",
    "rows0 = cur0.fetchall()\n",
    "rows1 = cur1.fetchall()\n",
    "rows2 = cur2.fetchall()\n",
    "conn.close()\n",
    "\n",
    "notice_rows0 = []\n",
    "for row0 in rows0:\n",
    "    notice_rows0.append(row0)\n",
    "notice_rows1 = []\n",
    "for row1 in rows1:\n",
    "    notice_rows1.append(row1)\n",
    "notice_rows2 = []\n",
    "for row2 in rows2:\n",
    "    notice_rows2.append(row2)\n",
    "    \n",
    "notice_rows = list(set(notice_rows0 + notice_rows1 + notice_rows2))\n",
    "# notice_rows.reverse()\n",
    "\n"
   ]
  },
  {
   "cell_type": "code",
   "execution_count": 9,
   "id": "a1192ed4",
   "metadata": {},
   "outputs": [
    {
     "name": "stdout",
     "output_type": "stream",
     "text": [
      " (+) Audio --aid=1 (mp3 2ch 44100Hz)\n",
      "AO: [pulse] 44100Hz stereo 2ch float\n"
     ]
    },
    {
     "name": "stderr",
     "output_type": "stream",
     "text": [
      "\u001b[KA: 00:00:00 / 00:00:01 (65%)\n"
     ]
    },
    {
     "name": "stdout",
     "output_type": "stream",
     "text": [
      "\n",
      "Exiting... (End of file)\n",
      " (+) Audio --aid=1 (mp3 2ch 44100Hz)\n",
      "AO: [pulse] 44100Hz stereo 2ch float\n"
     ]
    },
    {
     "name": "stderr",
     "output_type": "stream",
     "text": [
      "\u001b[KA: 00:00:00 / 00:00:01 (65%)\n"
     ]
    },
    {
     "name": "stdout",
     "output_type": "stream",
     "text": [
      "\n",
      "Exiting... (End of file)\n"
     ]
    }
   ],
   "source": [
    "import re\n",
    "import os\n",
    "import time\n",
    "\n",
    "def convertTuple(tup):\n",
    "        # initialize an empty string\n",
    "    str = ''\n",
    "    for item in tup:\n",
    "        str = str + item\n",
    "    return str\n",
    "\n",
    "n = 0\n",
    "# print ((len(notice_rows)))\n",
    "for i in range (len(notice_rows)):\n",
    "#     print(notice_rows[n])\n",
    "    tuple = (notice_rows[n])\n",
    "    sample_str = convertTuple(tuple)\n",
    "#     aaa = str(notice_rows[n])\n",
    "    output = re.sub(\"^\", \"  :  \", sample_str)\n",
    "    os.system(f'notify-send {n+1}\"/\"{len(notice_rows)} \"{output}\"')\n",
    "    os.system(\"mpv ./bell.mp3\")\n",
    "    n+=1\n",
    "    time.sleep(12)"
   ]
  }
 ],
 "metadata": {
  "kernelspec": {
   "display_name": "notice-kernel",
   "language": "python",
   "name": "notice-kernel"
  },
  "language_info": {
   "codemirror_mode": {
    "name": "ipython",
    "version": 3
   },
   "file_extension": ".py",
   "mimetype": "text/x-python",
   "name": "python",
   "nbconvert_exporter": "python",
   "pygments_lexer": "ipython3",
   "version": "3.10.5"
  }
 },
 "nbformat": 4,
 "nbformat_minor": 5
}
